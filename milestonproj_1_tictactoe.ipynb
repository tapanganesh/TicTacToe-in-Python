{
 "cells": [
  {
   "cell_type": "code",
   "execution_count": 82,
   "metadata": {},
   "outputs": [],
   "source": [
    "from IPython.display import clear_output\n",
    "\n",
    "def displayboard(board):\n",
    "    pos=0\n",
    "    print()\n",
    "    for i in range(0,3):\n",
    "        for h in range(0,3):\n",
    "            for x in range(0,3):\n",
    "                if x!=1:\n",
    "                    print(\" \",end=\"\")\n",
    "                elif x==1:\n",
    "                    print(board[pos],end=\"\")\n",
    "            if h!=2:\n",
    "                print(\"|\",end=\"\")\n",
    "            pos=pos+1\n",
    "        print()\n",
    "        if i!=2:\n",
    "            for d in range(0,12):\n",
    "                print(\"-\",end=\"\")\n",
    "        print()\n",
    "        \n",
    "    \n"
   ]
  },
  {
   "cell_type": "code",
   "execution_count": 83,
   "metadata": {},
   "outputs": [],
   "source": [
    "def getchoice():\n",
    "    valid=False\n",
    "    while valid==False:\n",
    "        pos=input(\"Enter the position you want to choose:\")\n",
    "        if pos.isdigit():\n",
    "            pos=int(pos)\n",
    "            if pos<=9 and pos>=0:\n",
    "                if board[pos-1]==str(pos) and board[pos-1]!=\"X\" and board[pos-1]!=\"O\":\n",
    "                    valid=True\n",
    "                else:\n",
    "                    print(\"please choose a valid position:\")\n",
    "                    valid=False\n",
    "            else:\n",
    "                #clear_output()\n",
    "                print(\"please choose a valid position:\")\n",
    "                valid=False\n",
    "        else:\n",
    "           # clear_output()\n",
    "            print(\"please choose a valid position:\")\n",
    "            valid=False\n",
    "    return pos\n",
    "            "
   ]
  },
  {
   "cell_type": "code",
   "execution_count": 84,
   "metadata": {},
   "outputs": [],
   "source": [
    "def gameover():\n",
    "    for i in range(0,9,3):\n",
    "        global G,w\n",
    "        if board[i]==board[i+1] and board[i+1]==board[i+2]:\n",
    "            if board[i]==\"X\":\n",
    "                w=2\n",
    "            else:\n",
    "                w=1\n",
    "            G=1\n",
    "            return True\n",
    "    for i in range(0,3):\n",
    "        if board[i]==board[i+3] and board[i+3]==board[i+6]:\n",
    "            if board[i]==\"X\":\n",
    "                w=2\n",
    "            else:\n",
    "                w=1\n",
    "            G=1\n",
    "            return True\n",
    "    if (board[0]==board[4] and board[4]==board[8]):\n",
    "            G=1\n",
    "            if board[0]==\"X\":\n",
    "                w=2\n",
    "            else:\n",
    "                w=1\n",
    "            return True\n",
    "    if(board[2]==board[4] and board[4]==board[6]):\n",
    "            G=1\n",
    "            if board[2]==\"X\":\n",
    "                w=2\n",
    "            else:\n",
    "                w=1\n",
    "        \n",
    "            return True\n",
    "    for c in board:\n",
    "        if c.isdigit():\n",
    "            return False\n",
    "    G=0  \n",
    "    return True"
   ]
  },
  {
   "cell_type": "code",
   "execution_count": 85,
   "metadata": {},
   "outputs": [],
   "source": [
    "def makeboard(board):\n",
    "    board=[\"1\",\"2\",\"3\",\"4\",\"5\",\"6\",\"7\",\"8\",\"9\"]"
   ]
  },
  {
   "cell_type": "code",
   "execution_count": 91,
   "metadata": {},
   "outputs": [
    {
     "name": "stdout",
     "output_type": "stream",
     "text": [
      "GAME OVER\n",
      "PLAYER 1 WINS!\n",
      "\n",
      " O | X | O \n",
      "------------\n",
      " X | O | X \n",
      "------------\n",
      " 7 | 8 | O \n",
      "\n"
     ]
    }
   ],
   "source": [
    "gameend=False\n",
    "i=2\n",
    "G=2\n",
    "w=0\n",
    "board=[\"1\",\"2\",\"3\",\"4\",\"5\",\"6\",\"7\",\"8\",\"9\"]\n",
    "while gameend!=True:\n",
    "#clear_output()\n",
    "    print(\"PLAYER 1-O PLAYER 2-X\")\n",
    "    pos=getchoice()\n",
    "    if i%2==0:\n",
    "        board[pos-1]=\"O\"\n",
    "    else:\n",
    "        board[pos-1]=\"X\"\n",
    "    displayboard(board)\n",
    "    gameend=gameover()\n",
    "    clear_output()\n",
    "    if gameend==True:\n",
    "       # print(f\"g={G}\")\n",
    "        if G==1:\n",
    "            print(\"GAME OVER\")\n",
    "            print(f\"PLAYER {w} WINS!\")\n",
    "        elif G==0:\n",
    "            print(\"GAME DRAW\")\n",
    "    i=i+1\n",
    "    displayboard(board)\n",
    "        \n",
    "        \n",
    "    "
   ]
  },
  {
   "cell_type": "code",
   "execution_count": null,
   "metadata": {},
   "outputs": [],
   "source": []
  }
 ],
 "metadata": {
  "kernelspec": {
   "display_name": "Python 3",
   "language": "python",
   "name": "python3"
  },
  "language_info": {
   "codemirror_mode": {
    "name": "ipython",
    "version": 3
   },
   "file_extension": ".py",
   "mimetype": "text/x-python",
   "name": "python",
   "nbconvert_exporter": "python",
   "pygments_lexer": "ipython3",
   "version": "3.8.3"
  }
 },
 "nbformat": 4,
 "nbformat_minor": 4
}
